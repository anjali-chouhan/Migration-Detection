{
 "cells": [
  {
   "cell_type": "code",
   "execution_count": 1,
   "metadata": {},
   "outputs": [
    {
     "data": {
      "text/html": [
       "<div>\n",
       "<style scoped>\n",
       "    .dataframe tbody tr th:only-of-type {\n",
       "        vertical-align: middle;\n",
       "    }\n",
       "\n",
       "    .dataframe tbody tr th {\n",
       "        vertical-align: top;\n",
       "    }\n",
       "\n",
       "    .dataframe thead th {\n",
       "        text-align: right;\n",
       "    }\n",
       "</style>\n",
       "<table border=\"1\" class=\"dataframe\">\n",
       "  <thead>\n",
       "    <tr style=\"text-align: right;\">\n",
       "      <th></th>\n",
       "      <th>Measure</th>\n",
       "      <th>Country</th>\n",
       "      <th>Citizenship</th>\n",
       "      <th>Year</th>\n",
       "      <th>Value</th>\n",
       "    </tr>\n",
       "  </thead>\n",
       "  <tbody>\n",
       "    <tr>\n",
       "      <th>0</th>\n",
       "      <td>Arrivals</td>\n",
       "      <td>Oceania</td>\n",
       "      <td>New Zealand Citizen</td>\n",
       "      <td>1979</td>\n",
       "      <td>11817.0</td>\n",
       "    </tr>\n",
       "    <tr>\n",
       "      <th>1</th>\n",
       "      <td>Arrivals</td>\n",
       "      <td>Oceania</td>\n",
       "      <td>Australian Citizen</td>\n",
       "      <td>1979</td>\n",
       "      <td>4436.0</td>\n",
       "    </tr>\n",
       "    <tr>\n",
       "      <th>2</th>\n",
       "      <td>Arrivals</td>\n",
       "      <td>Oceania</td>\n",
       "      <td>Total All Citizenships</td>\n",
       "      <td>1979</td>\n",
       "      <td>19965.0</td>\n",
       "    </tr>\n",
       "    <tr>\n",
       "      <th>3</th>\n",
       "      <td>Arrivals</td>\n",
       "      <td>Antarctica</td>\n",
       "      <td>New Zealand Citizen</td>\n",
       "      <td>1979</td>\n",
       "      <td>10.0</td>\n",
       "    </tr>\n",
       "    <tr>\n",
       "      <th>4</th>\n",
       "      <td>Arrivals</td>\n",
       "      <td>Antarctica</td>\n",
       "      <td>Australian Citizen</td>\n",
       "      <td>1979</td>\n",
       "      <td>0.0</td>\n",
       "    </tr>\n",
       "    <tr>\n",
       "      <th>5</th>\n",
       "      <td>Arrivals</td>\n",
       "      <td>Antarctica</td>\n",
       "      <td>Total All Citizenships</td>\n",
       "      <td>1979</td>\n",
       "      <td>13.0</td>\n",
       "    </tr>\n",
       "    <tr>\n",
       "      <th>6</th>\n",
       "      <td>Arrivals</td>\n",
       "      <td>American Samoa</td>\n",
       "      <td>New Zealand Citizen</td>\n",
       "      <td>1979</td>\n",
       "      <td>17.0</td>\n",
       "    </tr>\n",
       "    <tr>\n",
       "      <th>7</th>\n",
       "      <td>Arrivals</td>\n",
       "      <td>American Samoa</td>\n",
       "      <td>Australian Citizen</td>\n",
       "      <td>1979</td>\n",
       "      <td>4.0</td>\n",
       "    </tr>\n",
       "    <tr>\n",
       "      <th>8</th>\n",
       "      <td>Arrivals</td>\n",
       "      <td>American Samoa</td>\n",
       "      <td>Total All Citizenships</td>\n",
       "      <td>1979</td>\n",
       "      <td>30.0</td>\n",
       "    </tr>\n",
       "    <tr>\n",
       "      <th>9</th>\n",
       "      <td>Arrivals</td>\n",
       "      <td>Australia</td>\n",
       "      <td>New Zealand Citizen</td>\n",
       "      <td>1979</td>\n",
       "      <td>8224.0</td>\n",
       "    </tr>\n",
       "  </tbody>\n",
       "</table>\n",
       "</div>"
      ],
      "text/plain": [
       "    Measure         Country             Citizenship  Year    Value\n",
       "0  Arrivals         Oceania     New Zealand Citizen  1979  11817.0\n",
       "1  Arrivals         Oceania      Australian Citizen  1979   4436.0\n",
       "2  Arrivals         Oceania  Total All Citizenships  1979  19965.0\n",
       "3  Arrivals      Antarctica     New Zealand Citizen  1979     10.0\n",
       "4  Arrivals      Antarctica      Australian Citizen  1979      0.0\n",
       "5  Arrivals      Antarctica  Total All Citizenships  1979     13.0\n",
       "6  Arrivals  American Samoa     New Zealand Citizen  1979     17.0\n",
       "7  Arrivals  American Samoa      Australian Citizen  1979      4.0\n",
       "8  Arrivals  American Samoa  Total All Citizenships  1979     30.0\n",
       "9  Arrivals       Australia     New Zealand Citizen  1979   8224.0"
      ]
     },
     "execution_count": 1,
     "metadata": {},
     "output_type": "execute_result"
    }
   ],
   "source": [
    "import pandas as pd\n",
    "from sklearn.model_selection import train_test_split\n",
    "from sklearn import svm \n",
    "import seaborn as sns\n",
    "import matplotlib.pyplot as plt\n",
    "from sklearn.metrics import mean_squared_error\n",
    "import numpy as np\n",
    "from sklearn.naive_bayes import GaussianNB\n",
    "data = pd.read_csv('./data.csv')\n",
    "data.head(10)"
   ]
  },
  {
   "cell_type": "code",
   "execution_count": 2,
   "metadata": {},
   "outputs": [
    {
     "data": {
      "text/plain": [
       "array(['Arrivals', 'Departures', 'Net'], dtype=object)"
      ]
     },
     "execution_count": 2,
     "metadata": {},
     "output_type": "execute_result"
    }
   ],
   "source": [
    "data['Measure'].unique()"
   ]
  },
  {
   "cell_type": "code",
   "execution_count": 3,
   "metadata": {},
   "outputs": [
    {
     "data": {
      "text/html": [
       "<div>\n",
       "<style scoped>\n",
       "    .dataframe tbody tr th:only-of-type {\n",
       "        vertical-align: middle;\n",
       "    }\n",
       "\n",
       "    .dataframe tbody tr th {\n",
       "        vertical-align: top;\n",
       "    }\n",
       "\n",
       "    .dataframe thead th {\n",
       "        text-align: right;\n",
       "    }\n",
       "</style>\n",
       "<table border=\"1\" class=\"dataframe\">\n",
       "  <thead>\n",
       "    <tr style=\"text-align: right;\">\n",
       "      <th></th>\n",
       "      <th>Measure</th>\n",
       "      <th>Country</th>\n",
       "      <th>Citizenship</th>\n",
       "      <th>Year</th>\n",
       "      <th>Value</th>\n",
       "    </tr>\n",
       "  </thead>\n",
       "  <tbody>\n",
       "    <tr>\n",
       "      <th>0</th>\n",
       "      <td>0</td>\n",
       "      <td>Oceania</td>\n",
       "      <td>New Zealand Citizen</td>\n",
       "      <td>1979</td>\n",
       "      <td>11817.0</td>\n",
       "    </tr>\n",
       "    <tr>\n",
       "      <th>1</th>\n",
       "      <td>0</td>\n",
       "      <td>Oceania</td>\n",
       "      <td>Australian Citizen</td>\n",
       "      <td>1979</td>\n",
       "      <td>4436.0</td>\n",
       "    </tr>\n",
       "    <tr>\n",
       "      <th>2</th>\n",
       "      <td>0</td>\n",
       "      <td>Oceania</td>\n",
       "      <td>Total All Citizenships</td>\n",
       "      <td>1979</td>\n",
       "      <td>19965.0</td>\n",
       "    </tr>\n",
       "    <tr>\n",
       "      <th>3</th>\n",
       "      <td>0</td>\n",
       "      <td>Antarctica</td>\n",
       "      <td>New Zealand Citizen</td>\n",
       "      <td>1979</td>\n",
       "      <td>10.0</td>\n",
       "    </tr>\n",
       "    <tr>\n",
       "      <th>4</th>\n",
       "      <td>0</td>\n",
       "      <td>Antarctica</td>\n",
       "      <td>Australian Citizen</td>\n",
       "      <td>1979</td>\n",
       "      <td>0.0</td>\n",
       "    </tr>\n",
       "  </tbody>\n",
       "</table>\n",
       "</div>"
      ],
      "text/plain": [
       "   Measure     Country             Citizenship  Year    Value\n",
       "0        0     Oceania     New Zealand Citizen  1979  11817.0\n",
       "1        0     Oceania      Australian Citizen  1979   4436.0\n",
       "2        0     Oceania  Total All Citizenships  1979  19965.0\n",
       "3        0  Antarctica     New Zealand Citizen  1979     10.0\n",
       "4        0  Antarctica      Australian Citizen  1979      0.0"
      ]
     },
     "execution_count": 3,
     "metadata": {},
     "output_type": "execute_result"
    }
   ],
   "source": [
    "data['Measure'].replace(\"Arrivals\",0,inplace=True)\n",
    "data['Measure'].replace(\"Departures\",1,inplace=True)\n",
    "data['Measure'].replace(\"Net\",2,inplace=True)\n",
    "data.head()"
   ]
  },
  {
   "cell_type": "code",
   "execution_count": 4,
   "metadata": {},
   "outputs": [
    {
     "data": {
      "text/html": [
       "<div>\n",
       "<style scoped>\n",
       "    .dataframe tbody tr th:only-of-type {\n",
       "        vertical-align: middle;\n",
       "    }\n",
       "\n",
       "    .dataframe tbody tr th {\n",
       "        vertical-align: top;\n",
       "    }\n",
       "\n",
       "    .dataframe thead th {\n",
       "        text-align: right;\n",
       "    }\n",
       "</style>\n",
       "<table border=\"1\" class=\"dataframe\">\n",
       "  <thead>\n",
       "    <tr style=\"text-align: right;\">\n",
       "      <th></th>\n",
       "      <th>Measure</th>\n",
       "      <th>Country</th>\n",
       "      <th>Citizenship</th>\n",
       "      <th>Year</th>\n",
       "      <th>Value</th>\n",
       "      <th>CountryID</th>\n",
       "      <th>CitID</th>\n",
       "    </tr>\n",
       "  </thead>\n",
       "  <tbody>\n",
       "    <tr>\n",
       "      <th>0</th>\n",
       "      <td>0</td>\n",
       "      <td>Oceania</td>\n",
       "      <td>New Zealand Citizen</td>\n",
       "      <td>1979</td>\n",
       "      <td>11817.0</td>\n",
       "      <td>0</td>\n",
       "      <td>0</td>\n",
       "    </tr>\n",
       "    <tr>\n",
       "      <th>1</th>\n",
       "      <td>0</td>\n",
       "      <td>Oceania</td>\n",
       "      <td>Australian Citizen</td>\n",
       "      <td>1979</td>\n",
       "      <td>4436.0</td>\n",
       "      <td>0</td>\n",
       "      <td>1</td>\n",
       "    </tr>\n",
       "    <tr>\n",
       "      <th>2</th>\n",
       "      <td>0</td>\n",
       "      <td>Oceania</td>\n",
       "      <td>Total All Citizenships</td>\n",
       "      <td>1979</td>\n",
       "      <td>19965.0</td>\n",
       "      <td>0</td>\n",
       "      <td>2</td>\n",
       "    </tr>\n",
       "    <tr>\n",
       "      <th>3</th>\n",
       "      <td>0</td>\n",
       "      <td>Antarctica</td>\n",
       "      <td>New Zealand Citizen</td>\n",
       "      <td>1979</td>\n",
       "      <td>10.0</td>\n",
       "      <td>1</td>\n",
       "      <td>0</td>\n",
       "    </tr>\n",
       "    <tr>\n",
       "      <th>4</th>\n",
       "      <td>0</td>\n",
       "      <td>Antarctica</td>\n",
       "      <td>Australian Citizen</td>\n",
       "      <td>1979</td>\n",
       "      <td>0.0</td>\n",
       "      <td>1</td>\n",
       "      <td>1</td>\n",
       "    </tr>\n",
       "  </tbody>\n",
       "</table>\n",
       "</div>"
      ],
      "text/plain": [
       "   Measure     Country             Citizenship  Year    Value  CountryID  \\\n",
       "0        0     Oceania     New Zealand Citizen  1979  11817.0          0   \n",
       "1        0     Oceania      Australian Citizen  1979   4436.0          0   \n",
       "2        0     Oceania  Total All Citizenships  1979  19965.0          0   \n",
       "3        0  Antarctica     New Zealand Citizen  1979     10.0          1   \n",
       "4        0  Antarctica      Australian Citizen  1979      0.0          1   \n",
       "\n",
       "   CitID  \n",
       "0      0  \n",
       "1      1  \n",
       "2      2  \n",
       "3      0  \n",
       "4      1  "
      ]
     },
     "execution_count": 4,
     "metadata": {},
     "output_type": "execute_result"
    }
   ],
   "source": [
    "data['CountryID'] = pd.factorize(data.Country)[0]\n",
    "data['CitID'] = pd.factorize(data.Citizenship)[0]\n",
    "data.head()"
   ]
  },
  {
   "cell_type": "code",
   "execution_count": 5,
   "metadata": {},
   "outputs": [
    {
     "data": {
      "text/plain": [
       "Measure         0\n",
       "Country         0\n",
       "Citizenship     0\n",
       "Year            0\n",
       "Value          72\n",
       "CountryID       0\n",
       "CitID           0\n",
       "dtype: int64"
      ]
     },
     "execution_count": 5,
     "metadata": {},
     "output_type": "execute_result"
    }
   ],
   "source": [
    "data.isnull().sum()"
   ]
  },
  {
   "cell_type": "code",
   "execution_count": 6,
   "metadata": {},
   "outputs": [],
   "source": [
    "data[\"Value\"].fillna(data[\"Value\"].median(),inplace=True)"
   ]
  },
  {
   "cell_type": "code",
   "execution_count": 7,
   "metadata": {},
   "outputs": [],
   "source": [
    "data.drop(\"Country\", axis=1, inplace=True)\n",
    "data.drop('Citizenship', axis=1, inplace=True)\n",
    "X= data[['CountryID','Measure','Year','CitID']].values\n",
    "Y= data['Value'].values\n",
    "X_train, X_test, y_train, y_test = train_test_split(\n",
    "  X, Y, test_size=0.3, random_state=9)"
   ]
  },
  {
   "cell_type": "code",
   "execution_count": 8,
   "metadata": {},
   "outputs": [
    {
     "data": {
      "text/plain": [
       "0.7401159320532291"
      ]
     },
     "execution_count": 8,
     "metadata": {},
     "output_type": "execute_result"
    }
   ],
   "source": [
    "from sklearn.ensemble import RandomForestRegressor\n",
    "rf = RandomForestRegressor(n_estimators=70,max_features = 3,max_depth=5,n_jobs=-1)\n",
    "rf.fit(X_train ,y_train)\n",
    "rf.score(X_test, y_test)"
   ]
  },
  {
   "cell_type": "code",
   "execution_count": 9,
   "metadata": {},
   "outputs": [],
   "source": [
    "\n",
    "grouped = data.groupby(['Year']).aggregate({'Value' : 'sum'})"
   ]
  },
  {
   "cell_type": "code",
   "execution_count": 10,
   "metadata": {},
   "outputs": [
    {
     "data": {
      "text/html": [
       "<div>\n",
       "<style scoped>\n",
       "    .dataframe tbody tr th:only-of-type {\n",
       "        vertical-align: middle;\n",
       "    }\n",
       "\n",
       "    .dataframe tbody tr th {\n",
       "        vertical-align: top;\n",
       "    }\n",
       "\n",
       "    .dataframe thead th {\n",
       "        text-align: right;\n",
       "    }\n",
       "</style>\n",
       "<table border=\"1\" class=\"dataframe\">\n",
       "  <thead>\n",
       "    <tr style=\"text-align: right;\">\n",
       "      <th></th>\n",
       "      <th>Value</th>\n",
       "    </tr>\n",
       "    <tr>\n",
       "      <th>Year</th>\n",
       "      <th></th>\n",
       "    </tr>\n",
       "  </thead>\n",
       "  <tbody>\n",
       "    <tr>\n",
       "      <th>1979</th>\n",
       "      <td>396132.0</td>\n",
       "    </tr>\n",
       "    <tr>\n",
       "      <th>1980</th>\n",
       "      <td>440970.0</td>\n",
       "    </tr>\n",
       "    <tr>\n",
       "      <th>1981</th>\n",
       "      <td>435476.0</td>\n",
       "    </tr>\n",
       "    <tr>\n",
       "      <th>1982</th>\n",
       "      <td>439674.0</td>\n",
       "    </tr>\n",
       "    <tr>\n",
       "      <th>1983</th>\n",
       "      <td>417516.0</td>\n",
       "    </tr>\n",
       "  </tbody>\n",
       "</table>\n",
       "</div>"
      ],
      "text/plain": [
       "         Value\n",
       "Year          \n",
       "1979  396132.0\n",
       "1980  440970.0\n",
       "1981  435476.0\n",
       "1982  439674.0\n",
       "1983  417516.0"
      ]
     },
     "execution_count": 10,
     "metadata": {},
     "output_type": "execute_result"
    }
   ],
   "source": [
    "grouped.head()"
   ]
  },
  {
   "cell_type": "code",
   "execution_count": 11,
   "metadata": {},
   "outputs": [
    {
     "data": {
      "image/png": "[encoded data removed]",
      "text/plain": [
       "<Figure size 640x480 with 1 Axes>"
      ]
     },
     "metadata": {},
     "output_type": "display_data"
    }
   ],
   "source": [
    "#Growth of migration to USA by year\n",
    "grouped.plot(kind='line');plt.axhline(169, color='g')\n",
    "plt.show()"
   ]
  },
  {
   "cell_type": "code",
   "execution_count": null,
   "metadata": {},
   "outputs": [],
   "source": []
  }
 ],
 "metadata": {
  "kernelspec": {
   "display_name": "Python 3 (ipykernel)",
   "language": "python",
   "name": "python3"
  },
  "language_info": {
   "codemirror_mode": {
    "name": "ipython",
    "version": 3
   },
   "file_extension": ".py",
   "mimetype": "text/x-python",
   "name": "python",
   "nbconvert_exporter": "python",
   "pygments_lexer": "ipython3",
   "version": "3.11.4"
  }
 },
 "nbformat": 4,
 "nbformat_minor": 4
}
